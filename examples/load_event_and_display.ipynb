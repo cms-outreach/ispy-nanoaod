{
 "cells": [
  {
   "cell_type": "code",
   "execution_count": 1,
   "id": "5e5b99dd-577c-4cc8-bce5-4cd45f4056ff",
   "metadata": {},
   "outputs": [],
   "source": [
    "import os\n",
    "import subprocess\n",
    "import ispynanoaod as ispy"
   ]
  },
  {
   "cell_type": "code",
   "execution_count": 2,
   "id": "94e6cdc2-d55f-42c5-8d88-fa3620b956e0",
   "metadata": {},
   "outputs": [],
   "source": [
    "file_name = 'EEB2FE3F-7CF3-BF4A-9F70-3F89FACE698E.root'\n",
    "file_url = 'http://opendata.cern.ch/eos/opendata/cms/Run2016H/DoubleMuon/NANOAOD/UL2016_MiniAODv2_NanoAODv9-v1/2510000/EEB2FE3F-7CF3-BF4A-9F70-3F89FACE698E.root'\n",
    "\n",
    "if not (os.path.isfile(f'{file_name}')):\n",
    "    subprocess.run(['curl', '-O', f'{file_url}'])"
   ]
  },
  {
   "cell_type": "code",
   "execution_count": 3,
   "id": "64b2dd8f-5866-4439-b8c4-78c1288bbfef",
   "metadata": {},
   "outputs": [
    {
     "data": {
      "application/vnd.jupyter.widget-view+json": {
       "model_id": "d98d08cdb2a94bc38d7a006368332ab7",
       "version_major": 2,
       "version_minor": 0
      },
      "text/plain": [
       "HBox(children=(Button(icon='step-backward', style=ButtonStyle(), tooltip='Previous Event'), Button(icon='step-…"
      ]
     },
     "metadata": {},
     "output_type": "display_data"
    },
    {
     "data": {
      "application/vnd.jupyter.widget-view+json": {
       "model_id": "f6e4076c32714ab5832d0262e5038cb0",
       "version_major": 2,
       "version_minor": 0
      },
      "text/plain": [
       "VBox(children=(HTML(value=''),))"
      ]
     },
     "metadata": {},
     "output_type": "display_data"
    },
    {
     "data": {
      "application/vnd.jupyter.widget-view+json": {
       "model_id": "2e8a02b98b6c4fbb9f83000e16832a11",
       "version_major": 2,
       "version_minor": 0
      },
      "text/plain": [
       "VBox(children=(HTML(value='Object info: '),))"
      ]
     },
     "metadata": {},
     "output_type": "display_data"
    },
    {
     "data": {
      "application/vnd.jupyter.widget-view+json": {
       "model_id": "64ece9b5a4a44151a794466493271022",
       "version_major": 2,
       "version_minor": 0
      },
      "text/plain": [
       "Renderer(camera=PerspectiveCamera(aspect=1.6, children=(DirectionalLight(color='white', position=(-15.0, 15.0,…"
      ]
     },
     "metadata": {},
     "output_type": "display_data"
    },
    {
     "name": "stderr",
     "output_type": "stream",
     "text": [
      "/Users/mccauley/ispy-nanoaod/ispy/lib/python3.11/site-packages/pythreejs/traits.py:257: UserWarning: 64-bit data types not supported for WebGL data, casting to 32-bit.\n",
      "  warnings.warn('64-bit data types not supported for WebGL '\n"
     ]
    }
   ],
   "source": [
    "display = ispy.EventDisplay()\n",
    "display.load_file(file_name)\n",
    "display.display()"
   ]
  },
  {
   "cell_type": "code",
   "execution_count": 6,
   "id": "898cbd2e-a79a-4fdf-a737-c0f8d8c7bb00",
   "metadata": {},
   "outputs": [
    {
     "data": {
      "application/vnd.jupyter.widget-view+json": {
       "model_id": "04437c40b4944d889fcd39814ab0a6b7",
       "version_major": 2,
       "version_minor": 0
      },
      "text/plain": [
       "HBox(children=(Button(icon='step-backward', style=ButtonStyle(), tooltip='Previous Event'), Button(icon='step-…"
      ]
     },
     "metadata": {},
     "output_type": "display_data"
    },
    {
     "data": {
      "application/vnd.jupyter.widget-view+json": {
       "model_id": "a76f82615867489f984d569f36e3de62",
       "version_major": 2,
       "version_minor": 0
      },
      "text/plain": [
       "VBox(children=(HTML(value=''),))"
      ]
     },
     "metadata": {},
     "output_type": "display_data"
    },
    {
     "data": {
      "application/vnd.jupyter.widget-view+json": {
       "model_id": "5a3a51c645cc492d8af4bde5673d3fe3",
       "version_major": 2,
       "version_minor": 0
      },
      "text/plain": [
       "VBox(children=(HTML(value='Object info: '),))"
      ]
     },
     "metadata": {},
     "output_type": "display_data"
    },
    {
     "data": {
      "application/vnd.jupyter.widget-view+json": {
       "model_id": "7238890d0d61413994b13f58b0aa40a6",
       "version_major": 2,
       "version_minor": 0
      },
      "text/plain": [
       "Renderer(camera=PerspectiveCamera(aspect=1.3333333333333333, children=(DirectionalLight(color='white', positio…"
      ]
     },
     "metadata": {},
     "output_type": "display_data"
    }
   ],
   "source": [
    "display = ispy.EventDisplay(\n",
    "    width=800,\n",
    "    height=600,\n",
    "    background='#cccccc'\n",
    ")\n",
    "\n",
    "display.object_factory.set_style('jet', color='#ffaa00', opacity=0.8)\n",
    "display.object_factory.set_style('muon', color='#ff4444')\n",
    "display.object_factory.set_style('electron', color='#0000ff')\n",
    "display.object_factory.set_style('met', color='#00ff00')\n",
    "\n",
    "display.detector_geometry.configure_eb(\n",
    "    color='#4444ff',\n",
    "    opacity=0.3,\n",
    ")\n",
    "\n",
    "display.load_file(file_name)\n",
    "display.display()"
   ]
  },
  {
   "cell_type": "code",
   "execution_count": null,
   "id": "57542070-4084-48d2-838c-047f5c53eb89",
   "metadata": {},
   "outputs": [],
   "source": []
  }
 ],
 "metadata": {
  "kernelspec": {
   "display_name": "Python 3 (ipykernel)",
   "language": "python",
   "name": "python3"
  },
  "language_info": {
   "codemirror_mode": {
    "name": "ipython",
    "version": 3
   },
   "file_extension": ".py",
   "mimetype": "text/x-python",
   "name": "python",
   "nbconvert_exporter": "python",
   "pygments_lexer": "ipython3",
   "version": "3.11.5"
  }
 },
 "nbformat": 4,
 "nbformat_minor": 5
}
