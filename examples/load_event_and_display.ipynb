{
 "cells": [
  {
   "cell_type": "code",
   "execution_count": 1,
   "id": "5e5b99dd-577c-4cc8-bce5-4cd45f4056ff",
   "metadata": {},
   "outputs": [],
   "source": [
    "import os\n",
    "import ispynanoaod as ispy"
   ]
  },
  {
   "cell_type": "code",
   "execution_count": 2,
   "id": "94e6cdc2-d55f-42c5-8d88-fa3620b956e0",
   "metadata": {},
   "outputs": [],
   "source": [
    "file_name = 'EEB2FE3F-7CF3-BF4A-9F70-3F89FACE698E.root'\n",
    "file_url = 'http://opendata.cern.ch/eos/opendata/cms/Run2016H/DoubleMuon/NANOAOD/UL2016_MiniAODv2_NanoAODv9-v1/2510000/EEB2FE3F-7CF3-BF4A-9F70-3F89FACE698E.root'\n",
    "\n",
    "if not (os.path.isfile(f'{file_name}')):\n",
    "    subprocess.run(['curl', '-O', f'{file_url}'])"
   ]
  },
  {
   "cell_type": "code",
   "execution_count": 3,
   "id": "64b2dd8f-5866-4439-b8c4-78c1288bbfef",
   "metadata": {},
   "outputs": [
    {
     "data": {
      "application/vnd.jupyter.widget-view+json": {
       "model_id": "c7916e510f334cb18cc4ca98ed09e391",
       "version_major": 2,
       "version_minor": 0
      },
      "text/plain": [
       "HBox(children=(Button(icon='step-backward', style=ButtonStyle(), tooltip='Previous Event'), Button(icon='step-…"
      ]
     },
     "metadata": {},
     "output_type": "display_data"
    },
    {
     "data": {
      "application/vnd.jupyter.widget-view+json": {
       "model_id": "9c57ba17dc044197841dc5affafa2625",
       "version_major": 2,
       "version_minor": 0
      },
      "text/plain": [
       "VBox(children=(HTML(value=''),))"
      ]
     },
     "metadata": {},
     "output_type": "display_data"
    },
    {
     "data": {
      "application/vnd.jupyter.widget-view+json": {
       "model_id": "24bc5149231142eda22000d26a0c97f3",
       "version_major": 2,
       "version_minor": 0
      },
      "text/plain": [
       "VBox(children=(HTML(value='Object info: '),))"
      ]
     },
     "metadata": {},
     "output_type": "display_data"
    },
    {
     "data": {
      "application/vnd.jupyter.widget-view+json": {
       "model_id": "4018e1219fc144788d20cc5024784da5",
       "version_major": 2,
       "version_minor": 0
      },
      "text/plain": [
       "Renderer(camera=PerspectiveCamera(aspect=1.6, children=(DirectionalLight(color='white', position=(-15.0, 15.0,…"
      ]
     },
     "metadata": {},
     "output_type": "display_data"
    }
   ],
   "source": [
    "display = ispy.EventDisplay()\n",
    "display.load_file(file_name)\n",
    "display.display()"
   ]
  },
  {
   "cell_type": "code",
   "execution_count": 4,
   "id": "898cbd2e-a79a-4fdf-a737-c0f8d8c7bb00",
   "metadata": {},
   "outputs": [
    {
     "data": {
      "application/vnd.jupyter.widget-view+json": {
       "model_id": "463e32f63bc94f06a0acf83cddebbf51",
       "version_major": 2,
       "version_minor": 0
      },
      "text/plain": [
       "HBox(children=(Button(icon='step-backward', style=ButtonStyle(), tooltip='Previous Event'), Button(icon='step-…"
      ]
     },
     "metadata": {},
     "output_type": "display_data"
    },
    {
     "data": {
      "application/vnd.jupyter.widget-view+json": {
       "model_id": "4a0f7dd980034086a8123dee94948416",
       "version_major": 2,
       "version_minor": 0
      },
      "text/plain": [
       "VBox(children=(HTML(value=''),))"
      ]
     },
     "metadata": {},
     "output_type": "display_data"
    },
    {
     "data": {
      "application/vnd.jupyter.widget-view+json": {
       "model_id": "e29ebfe1d8a04acf8f838c8a93a4cac7",
       "version_major": 2,
       "version_minor": 0
      },
      "text/plain": [
       "VBox(children=(HTML(value='Object info: '),))"
      ]
     },
     "metadata": {},
     "output_type": "display_data"
    },
    {
     "data": {
      "application/vnd.jupyter.widget-view+json": {
       "model_id": "314cbeea38b04f7b96379a5922261a1a",
       "version_major": 2,
       "version_minor": 0
      },
      "text/plain": [
       "Renderer(camera=PerspectiveCamera(aspect=1.3333333333333333, children=(DirectionalLight(color='white', positio…"
      ]
     },
     "metadata": {},
     "output_type": "display_data"
    }
   ],
   "source": [
    "display = ispy.EventDisplay(\n",
    "    width=800,\n",
    "    height=600,\n",
    "    background='#cccccc'\n",
    ")\n",
    "\n",
    "display.object_factory.set_style('jet', color='#ffaa00', opacity=0.8)\n",
    "display.object_factory.set_style('muon', color='#ff4444')\n",
    "display.object_factory.set_style('electron', color='#0000ff')\n",
    "display.object_factory.set_style('met', color='#00ff00')\n",
    "\n",
    "display.detector_geometry.configure_eb(\n",
    "    color='#4444ff',\n",
    "    opacity=0.3,\n",
    ")\n",
    "\n",
    "display.load_file(file_name)\n",
    "display.display()"
   ]
  },
  {
   "cell_type": "code",
   "execution_count": null,
   "id": "57542070-4084-48d2-838c-047f5c53eb89",
   "metadata": {},
   "outputs": [],
   "source": []
  }
 ],
 "metadata": {
  "kernelspec": {
   "display_name": "Python 3 (ipykernel)",
   "language": "python",
   "name": "python3"
  },
  "language_info": {
   "codemirror_mode": {
    "name": "ipython",
    "version": 3
   },
   "file_extension": ".py",
   "mimetype": "text/x-python",
   "name": "python",
   "nbconvert_exporter": "python",
   "pygments_lexer": "ipython3",
   "version": "3.11.5"
  }
 },
 "nbformat": 4,
 "nbformat_minor": 5
}
