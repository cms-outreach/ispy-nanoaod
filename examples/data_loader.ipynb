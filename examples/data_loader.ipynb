{
 "cells": [
  {
   "cell_type": "code",
   "execution_count": 1,
   "id": "2d70126e-1cfb-4969-abf8-53e927b3995c",
   "metadata": {},
   "outputs": [],
   "source": [
    "import os\n",
    "import subprocess\n",
    "import ispynanoaod as ispy"
   ]
  },
  {
   "cell_type": "code",
   "execution_count": 2,
   "id": "5f009485-86fb-4717-9031-353183902680",
   "metadata": {},
   "outputs": [],
   "source": [
    "file_name = 'EEB2FE3F-7CF3-BF4A-9F70-3F89FACE698E.root'\n",
    "file_url = 'http://opendata.cern.ch/eos/opendata/cms/Run2016H/DoubleMuon/NANOAOD/UL2016_MiniAODv2_NanoAODv9-v1/2510000/EEB2FE3F-7CF3-BF4A-9F70-3F89FACE698E.root'\n",
    "\n",
    "if not (os.path.isfile(f'{file_name}')):\n",
    "    subprocess.run(['curl', '-O', f'{file_url}'])"
   ]
  },
  {
   "cell_type": "code",
   "execution_count": 3,
   "id": "295cc350-f97d-4bdd-8261-ac8b88d40d21",
   "metadata": {},
   "outputs": [],
   "source": [
    "data_loader = ispy.DataLoader()\n",
    "events = data_loader.load_root_file(filename=file_name)"
   ]
  },
  {
   "cell_type": "code",
   "execution_count": 4,
   "id": "d71c0925-cb63-4e9b-b6d9-d162840b41e4",
   "metadata": {},
   "outputs": [
    {
     "data": {
      "text/html": [
       "<pre>[{run: 281693, event: 162400163, luminosityBlock: 85, nJet: 2, ...},\n",
       " {run: 281693, event: 162245987, luminosityBlock: 85, nJet: 5, ...},\n",
       " {run: 281693, event: 162932188, luminosityBlock: 85, nJet: 5, ...},\n",
       " {run: 281693, event: 162745892, luminosityBlock: 85, nJet: 4, ...},\n",
       " {run: 281693, event: 163021537, luminosityBlock: 85, nJet: 4, ...},\n",
       " {run: 281693, event: 163280248, luminosityBlock: 85, nJet: 4, ...},\n",
       " {run: 281693, event: 162321904, luminosityBlock: 85, nJet: 7, ...},\n",
       " {run: 281693, event: 163781325, luminosityBlock: 85, nJet: 4, ...},\n",
       " {run: 281693, event: 162372999, luminosityBlock: 85, nJet: 2, ...},\n",
       " {run: 281693, event: 163550924, luminosityBlock: 85, nJet: 5, ...},\n",
       " ...,\n",
       " {run: 281693, event: 864651007, luminosityBlock: 459, nJet: 7, ...},\n",
       " {run: 281693, event: 865720851, luminosityBlock: 459, nJet: 9, ...},\n",
       " {run: 281693, event: 865406703, luminosityBlock: 459, nJet: 4, ...},\n",
       " {run: 281693, event: 865318519, luminosityBlock: 459, nJet: 5, ...},\n",
       " {run: 281693, event: 864870007, luminosityBlock: 459, nJet: 8, ...},\n",
       " {run: 281693, event: 864492156, luminosityBlock: 459, nJet: 10, ...},\n",
       " {run: 281693, event: 864364260, luminosityBlock: 459, nJet: 4, ...},\n",
       " {run: 281693, event: 864910299, luminosityBlock: 459, nJet: 9, ...},\n",
       " {run: 281693, event: 864616547, luminosityBlock: 459, nJet: 6, ...}]\n",
       "----------------------------------------------------------------------\n",
       "backend: cpu\n",
       "nbytes: 114.4 MB\n",
       "type: 285647 * {\n",
       "    run: uint32,\n",
       "    event: uint64,\n",
       "    luminosityBlock: uint32,\n",
       "    nJet: uint32,\n",
       "    Jet_pt: var * float32,\n",
       "    Jet_eta: var * float32,\n",
       "    Jet_phi: var * float32,\n",
       "    MET_pt: float32,\n",
       "    MET_phi: float32,\n",
       "    nPhoton: uint32,\n",
       "    ...\n",
       "}</pre>"
      ],
      "text/plain": [
       "<Array [{run: 281693, event: ..., ...}, ...] type='285647 * {run: uint32, e...'>"
      ]
     },
     "execution_count": 4,
     "metadata": {},
     "output_type": "execute_result"
    }
   ],
   "source": [
    "events"
   ]
  },
  {
   "cell_type": "code",
   "execution_count": 5,
   "id": "64689c53-692b-40b1-8254-0bcd28d92c6a",
   "metadata": {},
   "outputs": [
    {
     "data": {
      "text/html": [
       "<pre>{run: 281693,\n",
       " event: 162400163,\n",
       " luminosityBlock: 85,\n",
       " nJet: 2,\n",
       " Jet_pt: [31.5, 18.7],\n",
       " Jet_eta: [0.458, 0.247],\n",
       " Jet_phi: [0.951, -2.39],\n",
       " MET_pt: 15.9,\n",
       " MET_phi: 0.606,\n",
       " nPhoton: 0,\n",
       " Photon_pt: [],\n",
       " Photon_eta: [],\n",
       " Photon_phi: [],\n",
       " nMuon: 2,\n",
       " Muon_pt: [28.1, 12.1],\n",
       " Muon_eta: [0.457, -0.934],\n",
       " Muon_phi: [0.948, -3.02],\n",
       " Muon_charge: [-1, 1],\n",
       " nElectron: 0,\n",
       " ...}\n",
       "---------------------------\n",
       "backend: cpu\n",
       "nbytes: 114.4 MB\n",
       "type: {\n",
       "    run: uint32,\n",
       "    event: uint64,\n",
       "    luminosityBlock: uint32,\n",
       "    nJet: uint32,\n",
       "    Jet_pt: var * float32,\n",
       "    Jet_eta: var * float32,\n",
       "    Jet_phi: var * float32,\n",
       "    MET_pt: float32,\n",
       "    MET_phi: float32,\n",
       "    nPhoton: uint32,\n",
       "    ...\n",
       "}</pre>"
      ],
      "text/plain": [
       "<Record {run: 281693, event: 162400163, ...} type='{run: uint32, event: uin...'>"
      ]
     },
     "execution_count": 5,
     "metadata": {},
     "output_type": "execute_result"
    }
   ],
   "source": [
    "events[0]"
   ]
  },
  {
   "cell_type": "code",
   "execution_count": null,
   "id": "269667a1-458a-4df2-806d-3d62d9a33965",
   "metadata": {},
   "outputs": [],
   "source": []
  }
 ],
 "metadata": {
  "kernelspec": {
   "display_name": "Python 3 (ipykernel)",
   "language": "python",
   "name": "python3"
  },
  "language_info": {
   "codemirror_mode": {
    "name": "ipython",
    "version": 3
   },
   "file_extension": ".py",
   "mimetype": "text/x-python",
   "name": "python",
   "nbconvert_exporter": "python",
   "pygments_lexer": "ipython3",
   "version": "3.11.5"
  }
 },
 "nbformat": 4,
 "nbformat_minor": 5
}
