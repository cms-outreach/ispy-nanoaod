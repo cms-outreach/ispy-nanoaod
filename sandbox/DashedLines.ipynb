{
 "cells": [
  {
   "cell_type": "code",
   "execution_count": 1,
   "id": "6cb056d0-c537-4697-993b-1e882adcca56",
   "metadata": {},
   "outputs": [],
   "source": [
    "import random\n",
    "from pythreejs import *\n",
    "import numpy as np\n",
    "from IPython.display import display"
   ]
  },
  {
   "cell_type": "code",
   "execution_count": 2,
   "id": "aff183de-2471-404b-924d-5269208fc4ce",
   "metadata": {},
   "outputs": [],
   "source": [
    "scene = Scene(\n",
    "    background='#000000'\n",
    ")\n",
    "\n",
    "camera = PerspectiveCamera(\n",
    "    position=[10, 10, 10], \n",
    "    fov=50, \n",
    "    aspect=1.5\n",
    ")\n",
    "\n",
    "camera.lookAt([2, 1, 0])\n",
    "\n",
    "width=800\n",
    "height=600\n",
    "\n",
    "renderer = Renderer(\n",
    "    camera=camera, \n",
    "    scene=scene, \n",
    "    controls=[OrbitControls(controlling=camera)], \n",
    "    width=width, \n",
    "    height=height\n",
    ")"
   ]
  },
  {
   "cell_type": "code",
   "execution_count": 3,
   "id": "f29e15af-ea2a-4e49-bd82-5c28814dc813",
   "metadata": {},
   "outputs": [],
   "source": [
    "def make_eb():\n",
    "\n",
    "    geometry = CylinderGeometry(\n",
    "        radiusTop=1.12, \n",
    "        radiusBottom=1.24, \n",
    "        height=6.0, \n",
    "        radialSegments=64, \n",
    "        heightSegments=1, \n",
    "        openEnded=True, \n",
    "        thetaStart=0, \n",
    "        thetaLength=2*math.pi\n",
    "    )\n",
    "\n",
    "    eb = Mesh(\n",
    "        geometry,\n",
    "        MeshBasicMaterial(\n",
    "            color='#7fccff',\n",
    "            wireframe=True,\n",
    "            transparent=True,\n",
    "            opacity=0.2\n",
    "        )\n",
    "    )\n",
    "\n",
    "    eb.rotateX(math.pi/2)\n",
    "    eb.name = 'EB'\n",
    "    \n",
    "    return eb"
   ]
  },
  {
   "cell_type": "code",
   "execution_count": 54,
   "id": "96f48fd3-5abf-43f4-bdcf-782d7d3b4b1d",
   "metadata": {},
   "outputs": [],
   "source": [
    "scene.children = []\n",
    "\n",
    "points = np.array([\n",
    "    [0, 0, 0],\n",
    "    [0.5, 0.5, 1]\n",
    "], dtype='float32')\n",
    "\n",
    "# line.computeLineDistances() is not supported so we need to\n",
    "# do it manually\n",
    "distances = np.zeros(len(points), dtype='float32')\n",
    "for i in range(1, len(points)):\n",
    "    distances[i] = distances[i-1] + np.linalg.norm(points[i] - points[i-1])\n",
    "\n",
    "geometry = BufferGeometry(\n",
    "    attributes={\n",
    "        'position': BufferAttribute(points),\n",
    "        'lineDistance': BufferAttribute(distances)\n",
    "    }\n",
    ")\n",
    "\n",
    "material = LineDashedMaterial(\n",
    "    color='#ffff00',\n",
    "    dashSize=0.1,\n",
    "    gapSize=0.1\n",
    ")\n",
    "\n",
    "line = Line(\n",
    "    geometry=geometry,\n",
    "    material=material\n",
    ")\n",
    "\n",
    "scene.add(line)"
   ]
  },
  {
   "cell_type": "code",
   "execution_count": 55,
   "id": "ed1c42d9-d46c-4a44-96b6-436290c77d24",
   "metadata": {},
   "outputs": [
    {
     "data": {
      "application/vnd.jupyter.widget-view+json": {
       "model_id": "b61636b9e1cc43459f5e1f51484c7ed2",
       "version_major": 2,
       "version_minor": 0
      },
      "text/plain": [
       "Renderer(camera=PerspectiveCamera(aspect=1.5, position=(0.15865499193381155, 0.6716070575264856, 3.28723706903…"
      ]
     },
     "metadata": {},
     "output_type": "display_data"
    }
   ],
   "source": [
    "scene.add(make_eb())\n",
    "display(renderer)"
   ]
  },
  {
   "cell_type": "code",
   "execution_count": null,
   "id": "732f00d1-dc43-45d7-831f-09651f3478c8",
   "metadata": {},
   "outputs": [],
   "source": []
  },
  {
   "cell_type": "code",
   "execution_count": null,
   "id": "34b7f3e3-849d-407e-b27f-4340ede3329f",
   "metadata": {},
   "outputs": [],
   "source": []
  }
 ],
 "metadata": {
  "kernelspec": {
   "display_name": "Python 3 (ipykernel)",
   "language": "python",
   "name": "python3"
  },
  "language_info": {
   "codemirror_mode": {
    "name": "ipython",
    "version": 3
   },
   "file_extension": ".py",
   "mimetype": "text/x-python",
   "name": "python",
   "nbconvert_exporter": "python",
   "pygments_lexer": "ipython3",
   "version": "3.11.5"
  }
 },
 "nbformat": 4,
 "nbformat_minor": 5
}
