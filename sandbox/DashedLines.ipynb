{
 "cells": [
  {
   "cell_type": "code",
   "execution_count": 1,
   "id": "6cb056d0-c537-4697-993b-1e882adcca56",
   "metadata": {},
   "outputs": [],
   "source": [
    "import random\n",
    "from pythreejs import *\n",
    "import numpy as np\n",
    "from IPython.display import display"
   ]
  },
  {
   "cell_type": "code",
   "execution_count": 2,
   "id": "aff183de-2471-404b-924d-5269208fc4ce",
   "metadata": {},
   "outputs": [],
   "source": [
    "scene = Scene(\n",
    "    background='#000000'\n",
    ")\n",
    "\n",
    "camera = PerspectiveCamera(\n",
    "    position=[10, 10, 10], \n",
    "    fov=50, \n",
    "    aspect=1.5\n",
    ")\n",
    "\n",
    "camera.lookAt([2, 1, 0])\n",
    "\n",
    "width=800\n",
    "height=600\n",
    "\n",
    "renderer = Renderer(\n",
    "    camera=camera, \n",
    "    scene=scene, \n",
    "    controls=[OrbitControls(controlling=camera)], \n",
    "    width=width, \n",
    "    height=height\n",
    ")"
   ]
  },
  {
   "cell_type": "code",
   "execution_count": 3,
   "id": "f29e15af-ea2a-4e49-bd82-5c28814dc813",
   "metadata": {},
   "outputs": [],
   "source": [
    "def make_eb():\n",
    "\n",
    "    geometry = CylinderGeometry(\n",
    "        radiusTop=1.12, \n",
    "        radiusBottom=1.24, \n",
    "        height=6.0, \n",
    "        radialSegments=64, \n",
    "        heightSegments=1, \n",
    "        openEnded=True, \n",
    "        thetaStart=0, \n",
    "        thetaLength=2*math.pi\n",
    "    )\n",
    "\n",
    "    eb = Mesh(\n",
    "        geometry,\n",
    "        MeshBasicMaterial(\n",
    "            color='#7fccff',\n",
    "            wireframe=True,\n",
    "            transparent=True,\n",
    "            opacity=0.2\n",
    "        )\n",
    "    )\n",
    "\n",
    "    eb.rotateX(math.pi/2)\n",
    "    eb.name = 'EB'\n",
    "    \n",
    "    return eb"
   ]
  },
  {
   "cell_type": "code",
   "execution_count": 4,
   "id": "96f48fd3-5abf-43f4-bdcf-782d7d3b4b1d",
   "metadata": {},
   "outputs": [],
   "source": [
    "scene.children = []\n",
    "\n",
    "points = np.array([\n",
    "    [0, 0, 0],\n",
    "    [0.5, 0.5, 1]\n",
    "], dtype='float32')\n",
    "\n",
    "# line.computeLineDistances() is not supported so we need to\n",
    "# do it manually\n",
    "distances = np.zeros(len(points), dtype='float32')\n",
    "for i in range(1, len(points)):\n",
    "    distances[i] = distances[i-1] + np.linalg.norm(points[i] - points[i-1])\n",
    "\n",
    "geometry = BufferGeometry(\n",
    "    attributes={\n",
    "        'position': BufferAttribute(points),\n",
    "        'lineDistance': BufferAttribute(distances)\n",
    "    }\n",
    ")\n",
    "\n",
    "material = LineDashedMaterial(\n",
    "    color='#ffff00',\n",
    "    dashSize=0.1,\n",
    "    gapSize=0.1\n",
    ")\n",
    "\n",
    "line = Line(\n",
    "    geometry=geometry,\n",
    "    material=material\n",
    ")\n",
    "\n",
    "scene.add(line)"
   ]
  },
  {
   "cell_type": "code",
   "execution_count": 5,
   "id": "ed1c42d9-d46c-4a44-96b6-436290c77d24",
   "metadata": {},
   "outputs": [
    {
     "data": {
      "application/vnd.jupyter.widget-view+json": {
       "model_id": "62a73e9da9d640fd939edacf532029dd",
       "version_major": 2,
       "version_minor": 0
      },
      "text/plain": [
       "Renderer(camera=PerspectiveCamera(aspect=1.5, position=(10.0, 10.0, 10.0), projectionMatrix=(1.429671280339705…"
      ]
     },
     "metadata": {},
     "output_type": "display_data"
    }
   ],
   "source": [
    "scene.add(make_eb())\n",
    "display(renderer)"
   ]
  },
  {
   "cell_type": "code",
   "execution_count": 42,
   "id": "732f00d1-dc43-45d7-831f-09651f3478c8",
   "metadata": {},
   "outputs": [
    {
     "name": "stdout",
     "output_type": "stream",
     "text": [
      "20.0 0.8848657931741001 -2.889497955327288\n",
      "1.24\n"
     ]
    },
    {
     "data": {
      "application/vnd.jupyter.widget-view+json": {
       "model_id": "62a73e9da9d640fd939edacf532029dd",
       "version_major": 2,
       "version_minor": 0
      },
      "text/plain": [
       "Renderer(camera=PerspectiveCamera(aspect=1.5, position=(9.907143155516145, 1.0813663842531769, 5.7198917677375…"
      ]
     },
     "metadata": {},
     "output_type": "display_data"
    }
   ],
   "source": [
    "import random\n",
    "\n",
    "scene.children = []\n",
    "\n",
    "lEB = 3.0\n",
    "rEB = 1.24\n",
    "\n",
    "x0 = 0.0\n",
    "y0 = 0.0\n",
    "z0 = 0.0\n",
    "\n",
    "pt = 20.0\n",
    "eta = ((2*random.random())-1)*1.2\n",
    "phi = ((2*random.random())-1)*math.pi\n",
    "\n",
    "print(pt, eta, phi)\n",
    "\n",
    "px = np.cos(phi)\n",
    "py = np.sin(phi)\n",
    "pz = (np.pow(np.e, eta) - np.pow(np.e, -eta))/2;\n",
    "\n",
    "p = np.array([px,py,pz])\n",
    "\n",
    "eta_max = 1.48\n",
    "if np.abs(eta) > eta_max:\n",
    "    t = np.abs((lEB-z0)/pz)\n",
    "else:\n",
    "    a = p[0]*p[0] + p[1]*p[1]\n",
    "    b = 2*x0*p[0] + 2*y0*p[1]\n",
    "    c = x0*x0 + y0*y0 - rEB*rEB\n",
    "    t = (-b+np.sqrt(b*b-4*a*c))/2\n",
    "\n",
    "print(t)\n",
    "\n",
    "p0 = [x0, y0, z0]\n",
    "p1 = [x0+p[0]*t, y0+p[1]*t, z0+p[2]*t]\n",
    "\n",
    "points = np.array(\n",
    "    [p0, p1], \n",
    "    dtype='float32'\n",
    ")\n",
    "\n",
    "# line.computeLineDistances() is not supported so we need to\n",
    "# do it manually\n",
    "distances = np.zeros(len(points), dtype='float32')\n",
    "for i in range(1, len(points)):\n",
    "    distances[i] = distances[i-1] + np.linalg.norm(points[i] - points[i-1])\n",
    "\n",
    "geometry = BufferGeometry(\n",
    "    attributes={\n",
    "        'position': BufferAttribute(points),\n",
    "        'lineDistance': BufferAttribute(distances)\n",
    "    }\n",
    ")\n",
    "\n",
    "material = LineDashedMaterial(\n",
    "    color='#ffff00',\n",
    "    dashSize=0.1,\n",
    "    gapSize=0.1\n",
    ")\n",
    "\n",
    "line = Line(\n",
    "    geometry=geometry,\n",
    "    material=material\n",
    ")\n",
    "\n",
    "scene.add(line)\n",
    "\n",
    "scene.add(make_eb())\n",
    "display(renderer)"
   ]
  },
  {
   "cell_type": "code",
   "execution_count": null,
   "id": "2dfcb541-b1aa-41da-9f07-27922532d2c3",
   "metadata": {},
   "outputs": [],
   "source": []
  },
  {
   "cell_type": "code",
   "execution_count": null,
   "id": "7a84e7bc-67c8-4482-9a4e-4702552b4890",
   "metadata": {},
   "outputs": [],
   "source": []
  },
  {
   "cell_type": "code",
   "execution_count": null,
   "id": "b4522e5c-c4ad-459c-ba6c-6182458286e9",
   "metadata": {},
   "outputs": [],
   "source": []
  },
  {
   "cell_type": "code",
   "execution_count": null,
   "id": "f1c14923-a9ff-4206-a13f-e5aed890296b",
   "metadata": {},
   "outputs": [],
   "source": []
  }
 ],
 "metadata": {
  "kernelspec": {
   "display_name": "Python 3 (ipykernel)",
   "language": "python",
   "name": "python3"
  },
  "language_info": {
   "codemirror_mode": {
    "name": "ipython",
    "version": 3
   },
   "file_extension": ".py",
   "mimetype": "text/x-python",
   "name": "python",
   "nbconvert_exporter": "python",
   "pygments_lexer": "ipython3",
   "version": "3.11.5"
  }
 },
 "nbformat": 4,
 "nbformat_minor": 5
}
