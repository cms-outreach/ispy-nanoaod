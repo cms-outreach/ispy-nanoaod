{
 "cells": [
  {
   "cell_type": "code",
   "execution_count": 1,
   "id": "31068592-3acb-472f-905a-4d827c00702c",
   "metadata": {},
   "outputs": [],
   "source": [
    "import random\n",
    "from pythreejs import *\n",
    "import numpy as np\n",
    "from IPython.display import display"
   ]
  },
  {
   "cell_type": "code",
   "execution_count": 2,
   "id": "64941797-cfc1-4b29-ba5b-ae5cc81eab24",
   "metadata": {},
   "outputs": [],
   "source": [
    "scene = Scene(\n",
    "    background='#000000'\n",
    ")\n",
    "\n",
    "camera = PerspectiveCamera(\n",
    "    position=[10, 10, 10], \n",
    "    fov=50, \n",
    "    aspect=1.5\n",
    ")\n",
    "\n",
    "camera.lookAt([2, 1, 0])\n",
    "\n",
    "width=800\n",
    "height=600\n",
    "\n",
    "renderer = Renderer(\n",
    "    camera=camera, \n",
    "    scene=scene, \n",
    "    controls=[OrbitControls(controlling=camera)], \n",
    "    width=width, \n",
    "    height=height\n",
    ")"
   ]
  },
  {
   "cell_type": "code",
   "execution_count": 3,
   "id": "42aebe0a-41e4-4a2e-9b3f-cb889248be5e",
   "metadata": {},
   "outputs": [],
   "source": [
    "def make_random_tracks(number_of_tracks):\n",
    "\n",
    "    tracks = []\n",
    "    \n",
    "    for i in range(0,number_of_tracks+1):\n",
    "        pt = 1.0 + random.random()*(50-2.0)\n",
    "        charge = 1 if random.random() > 0.5 else -1\n",
    "        eta = ((2*random.random())-1)*2.4\n",
    "        phi = ((2*random.random())-1)*math.pi\n",
    "\n",
    "        tracks.append(\n",
    "            (pt,eta,phi,charge)\n",
    "        )\n",
    "\n",
    "    return tracks\n",
    "\n",
    "\n",
    "def make_helix_points(track):\n",
    "\n",
    "    pt = track[0]\n",
    "    eta = track[1]\n",
    "    phi = track[2]\n",
    "    charge = track[3]\n",
    "    \n",
    "    vertex = (0,0,0)\n",
    "                                                                                                                                                                                  \n",
    "    Bz = 3.8\n",
    "    radius = (pt / (math.fabs(charge)*Bz))\n",
    "\n",
    "    centerX = vertex[0] + radius*charge*math.sin(phi)\n",
    "    centerY = vertex[1] - radius*charge*math.cos(phi)\n",
    "    \n",
    "    pz = pt*math.sinh(eta)\n",
    "    phi0 = math.atan2(vertex[1] - centerY, vertex[0] - centerX)\n",
    "    omega = (charge*Bz) / pt\n",
    "    pitch = pz / (pt*math.fabs(omega))\n",
    "\n",
    "    maxAngle = 4*math.pi\n",
    "    numPoints = 1000\n",
    "    points = []\n",
    "\n",
    "    for i in range(0, numPoints+1):\n",
    "\n",
    "        t = (i/numPoints)*maxAngle\n",
    "        x = centerX + radius*math.cos(phi0+t)\n",
    "        y = centerY + radius*math.sin(phi0+t)\n",
    "        z = vertex[2] + t*pitch\n",
    "        r = math.sqrt(x*x +y*y)                                                                                                                                                                       \n",
    "        \n",
    "        if math.fabs(z) > 3 or r > 1.24:\n",
    "            break\n",
    "        \n",
    "        points.append((float(x),float(y),float(z)))\n",
    "\n",
    "    points = np.array(points)\n",
    "    return points\n",
    "\n",
    "def make_eb():\n",
    "\n",
    "    geometry = CylinderGeometry(\n",
    "        radiusTop=1.12, \n",
    "        radiusBottom=1.24, \n",
    "        height=6.0, \n",
    "        radialSegments=64, \n",
    "        heightSegments=1, \n",
    "        openEnded=True, \n",
    "        thetaStart=0, \n",
    "        thetaLength=2*math.pi\n",
    "    )\n",
    "\n",
    "    eb = Mesh(\n",
    "        geometry,\n",
    "        MeshBasicMaterial(\n",
    "            color='#7fccff',\n",
    "            wireframe=True,\n",
    "            transparent=True,\n",
    "            opacity=0.2\n",
    "        )\n",
    "    )\n",
    "\n",
    "    eb.rotateX(math.pi/2)\n",
    "    eb.name = 'EB'\n",
    "    \n",
    "    return eb"
   ]
  },
  {
   "cell_type": "code",
   "execution_count": 6,
   "id": "be8a8942-4f4b-4eab-8e38-8bdaac8c8fe0",
   "metadata": {},
   "outputs": [],
   "source": [
    "scene.children = []\n",
    "\n",
    "tracks = make_random_tracks(100)\n",
    "\n",
    "for track in tracks:\n",
    "    points = make_helix_points(track)\n",
    "    points = np.array(points)\n",
    "\n",
    "    geometry = LineGeometry(positions=points)\n",
    "\n",
    "    material = LineMaterial(\n",
    "        linewidth=3,\n",
    "        color=\"#ffff00\"\n",
    "    )\n",
    "\n",
    "    material.resolution = [width, height]\n",
    "\n",
    "    line = Line2(geometry=geometry, material=material)\n",
    "    \n",
    "    scene.add(line)"
   ]
  },
  {
   "cell_type": "code",
   "execution_count": 7,
   "id": "1e9c4130-4898-42db-8d8d-963963cca67f",
   "metadata": {},
   "outputs": [
    {
     "data": {
      "application/vnd.jupyter.widget-view+json": {
       "model_id": "bb1114cb39b4499e83593987f7194ee5",
       "version_major": 2,
       "version_minor": 0
      },
      "text/plain": [
       "Renderer(camera=PerspectiveCamera(aspect=1.5, position=(-3.5497406696594838, 2.758975741744669, -7.15090620909…"
      ]
     },
     "metadata": {},
     "output_type": "display_data"
    }
   ],
   "source": [
    "scene.add(make_eb())\n",
    "display(renderer)"
   ]
  },
  {
   "cell_type": "code",
   "execution_count": null,
   "id": "3abfff86-8ac6-41a4-aeb8-a4f0db15de50",
   "metadata": {},
   "outputs": [],
   "source": []
  }
 ],
 "metadata": {
  "kernelspec": {
   "display_name": "Python 3 (ipykernel)",
   "language": "python",
   "name": "python3"
  },
  "language_info": {
   "codemirror_mode": {
    "name": "ipython",
    "version": 3
   },
   "file_extension": ".py",
   "mimetype": "text/x-python",
   "name": "python",
   "nbconvert_exporter": "python",
   "pygments_lexer": "ipython3",
   "version": "3.11.5"
  }
 },
 "nbformat": 4,
 "nbformat_minor": 5
}
